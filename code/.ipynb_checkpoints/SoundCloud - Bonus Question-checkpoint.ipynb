{
 "cells": [
  {
   "cell_type": "markdown",
   "metadata": {},
   "source": [
    "# SoundCloud - Bonus Question"
   ]
  },
  {
   "cell_type": "markdown",
   "metadata": {},
   "source": [
    "For this question, I will be using Python to generate playlist recommendations for SoundCloud users based on their playlist history. I'll attempt this by finding similarities between available playlists, and then users."
   ]
  },
  {
   "cell_type": "code",
   "execution_count": 1,
   "metadata": {
    "collapsed": true
   },
   "outputs": [],
   "source": [
    "import pandas as pd\n",
    "from scipy.spatial.distance import cosine"
   ]
  },
  {
   "cell_type": "markdown",
   "metadata": {},
   "source": [
    "First, I populated a table with hypothetical data for player_id, timestamp, user_id, track_id, and listening_duration.\n",
    "Then I imported my table into Jupyter Notebook."
   ]
  },
  {
   "cell_type": "code",
   "execution_count": 2,
   "metadata": {
    "collapsed": true
   },
   "outputs": [],
   "source": [
    "plays = pd.read_csv(\"../asset/plays.csv\")"
   ]
  },
  {
   "cell_type": "code",
   "execution_count": 3,
   "metadata": {
    "collapsed": false
   },
   "outputs": [
    {
     "data": {
      "text/html": [
       "<div>\n",
       "<table border=\"1\" class=\"dataframe\">\n",
       "  <thead>\n",
       "    <tr style=\"text-align: right;\">\n",
       "      <th></th>\n",
       "      <th>Playlist_ID</th>\n",
       "      <th>timestamp</th>\n",
       "      <th>user_id</th>\n",
       "      <th>track_id</th>\n",
       "      <th>listening_duration</th>\n",
       "    </tr>\n",
       "  </thead>\n",
       "  <tbody>\n",
       "    <tr>\n",
       "      <th>0</th>\n",
       "      <td>NM</td>\n",
       "      <td>11:54</td>\n",
       "      <td>regina</td>\n",
       "      <td>falz</td>\n",
       "      <td>750</td>\n",
       "    </tr>\n",
       "    <tr>\n",
       "      <th>1</th>\n",
       "      <td>BP</td>\n",
       "      <td>7:30</td>\n",
       "      <td>qi</td>\n",
       "      <td>TLC</td>\n",
       "      <td>780</td>\n",
       "    </tr>\n",
       "    <tr>\n",
       "      <th>2</th>\n",
       "      <td>NI</td>\n",
       "      <td>9:45</td>\n",
       "      <td>marit</td>\n",
       "      <td>korede</td>\n",
       "      <td>420</td>\n",
       "    </tr>\n",
       "    <tr>\n",
       "      <th>3</th>\n",
       "      <td>QB</td>\n",
       "      <td>3:35</td>\n",
       "      <td>tenele</td>\n",
       "      <td>rihanna</td>\n",
       "      <td>677</td>\n",
       "    </tr>\n",
       "    <tr>\n",
       "      <th>4</th>\n",
       "      <td>KJ</td>\n",
       "      <td>4:40</td>\n",
       "      <td>ebehi</td>\n",
       "      <td>kari</td>\n",
       "      <td>500</td>\n",
       "    </tr>\n",
       "  </tbody>\n",
       "</table>\n",
       "</div>"
      ],
      "text/plain": [
       "  Playlist_ID timestamp user_id track_id  listening_duration\n",
       "0          NM     11:54  regina     falz                 750\n",
       "1          BP      7:30      qi      TLC                 780\n",
       "2          NI      9:45   marit   korede                 420\n",
       "3          QB      3:35  tenele  rihanna                 677\n",
       "4          KJ      4:40   ebehi     kari                 500"
      ]
     },
     "execution_count": 3,
     "metadata": {},
     "output_type": "execute_result"
    }
   ],
   "source": [
    "plays.head()"
   ]
  },
  {
   "cell_type": "markdown",
   "metadata": {},
   "source": [
    "I'm going to need just the playlist_Id and the user_id."
   ]
  },
  {
   "cell_type": "code",
   "execution_count": 4,
   "metadata": {
    "collapsed": true
   },
   "outputs": [],
   "source": [
    "userPlay = plays[[\"Playlist_ID\", \"user_id\"]].copy()"
   ]
  },
  {
   "cell_type": "markdown",
   "metadata": {},
   "source": [
    "Now I want to make the playlist_id dummy variables. "
   ]
  },
  {
   "cell_type": "code",
   "execution_count": 5,
   "metadata": {
    "collapsed": false
   },
   "outputs": [
    {
     "data": {
      "text/html": [
       "<div>\n",
       "<table border=\"1\" class=\"dataframe\">\n",
       "  <thead>\n",
       "    <tr style=\"text-align: right;\">\n",
       "      <th></th>\n",
       "      <th>user_id</th>\n",
       "      <th>BP</th>\n",
       "      <th>FJ</th>\n",
       "      <th>KJ</th>\n",
       "      <th>NG</th>\n",
       "      <th>NI</th>\n",
       "      <th>NM</th>\n",
       "      <th>QB</th>\n",
       "    </tr>\n",
       "  </thead>\n",
       "  <tbody>\n",
       "    <tr>\n",
       "      <th>0</th>\n",
       "      <td>regina</td>\n",
       "      <td>0.0</td>\n",
       "      <td>0.0</td>\n",
       "      <td>0.0</td>\n",
       "      <td>0.0</td>\n",
       "      <td>0.0</td>\n",
       "      <td>1.0</td>\n",
       "      <td>0.0</td>\n",
       "    </tr>\n",
       "    <tr>\n",
       "      <th>1</th>\n",
       "      <td>qi</td>\n",
       "      <td>1.0</td>\n",
       "      <td>0.0</td>\n",
       "      <td>0.0</td>\n",
       "      <td>0.0</td>\n",
       "      <td>0.0</td>\n",
       "      <td>0.0</td>\n",
       "      <td>0.0</td>\n",
       "    </tr>\n",
       "    <tr>\n",
       "      <th>2</th>\n",
       "      <td>marit</td>\n",
       "      <td>0.0</td>\n",
       "      <td>0.0</td>\n",
       "      <td>0.0</td>\n",
       "      <td>0.0</td>\n",
       "      <td>1.0</td>\n",
       "      <td>0.0</td>\n",
       "      <td>0.0</td>\n",
       "    </tr>\n",
       "    <tr>\n",
       "      <th>3</th>\n",
       "      <td>tenele</td>\n",
       "      <td>0.0</td>\n",
       "      <td>0.0</td>\n",
       "      <td>0.0</td>\n",
       "      <td>0.0</td>\n",
       "      <td>0.0</td>\n",
       "      <td>0.0</td>\n",
       "      <td>1.0</td>\n",
       "    </tr>\n",
       "    <tr>\n",
       "      <th>4</th>\n",
       "      <td>ebehi</td>\n",
       "      <td>0.0</td>\n",
       "      <td>0.0</td>\n",
       "      <td>1.0</td>\n",
       "      <td>0.0</td>\n",
       "      <td>0.0</td>\n",
       "      <td>0.0</td>\n",
       "      <td>0.0</td>\n",
       "    </tr>\n",
       "  </tbody>\n",
       "</table>\n",
       "</div>"
      ],
      "text/plain": [
       "  user_id   BP   FJ   KJ   NG   NI   NM   QB\n",
       "0  regina  0.0  0.0  0.0  0.0  0.0  1.0  0.0\n",
       "1      qi  1.0  0.0  0.0  0.0  0.0  0.0  0.0\n",
       "2   marit  0.0  0.0  0.0  0.0  1.0  0.0  0.0\n",
       "3  tenele  0.0  0.0  0.0  0.0  0.0  0.0  1.0\n",
       "4   ebehi  0.0  0.0  1.0  0.0  0.0  0.0  0.0"
      ]
     },
     "execution_count": 5,
     "metadata": {},
     "output_type": "execute_result"
    }
   ],
   "source": [
    "dummies = pd.get_dummies(userPlay[\"Playlist_ID\"])\n",
    "userPlay2 = userPlay[[\"user_id\"]].join(dummies)\n",
    "userPlay2.head()"
   ]
  },
  {
   "cell_type": "markdown",
   "metadata": {},
   "source": [
    "For each user_id, 1 indicated that the user listened to a particular playlist and 0 indicates that the user hasn't listened to the playlist."
   ]
  },
  {
   "cell_type": "markdown",
   "metadata": {},
   "source": [
    "Next, I want to group the table by user_id."
   ]
  },
  {
   "cell_type": "code",
   "execution_count": 6,
   "metadata": {
    "collapsed": true
   },
   "outputs": [],
   "source": [
    "aggMap = { \n",
    "           \"BP\" : \"max\", \"FJ\" : \"max\", \n",
    "           \"KJ\" : \"max\", \"NG\" : \"max\",\n",
    "           \"NI\" : \"max\", \"NM\" : \"max\",\n",
    "           \"QB\" : \"max\" \n",
    "         }\n",
    "\n",
    "userPlay3 = userPlay2.groupby([\"user_id\"]).agg(aggMap).reset_index()"
   ]
  },
  {
   "cell_type": "markdown",
   "metadata": {},
   "source": [
    "Before creating a list of recommendations for each user, I would need to find which playlists are similar to one another based on which playlists have previously been played. To do that, I'll have to drop the user_id columns and create an empty data frame for my results."
   ]
  },
  {
   "cell_type": "code",
   "execution_count": 7,
   "metadata": {
    "collapsed": false
   },
   "outputs": [],
   "source": [
    "userPlay4 = userPlay3.drop(\"user_id\", 1)\n",
    "userPlay5 = pd.DataFrame(index = userPlay4.columns, columns = userPlay4.columns)"
   ]
  },
  {
   "cell_type": "code",
   "execution_count": 8,
   "metadata": {
    "collapsed": false
   },
   "outputs": [
    {
     "data": {
      "text/html": [
       "<div>\n",
       "<table border=\"1\" class=\"dataframe\">\n",
       "  <thead>\n",
       "    <tr style=\"text-align: right;\">\n",
       "      <th></th>\n",
       "      <th>NI</th>\n",
       "      <th>NM</th>\n",
       "      <th>KJ</th>\n",
       "      <th>NG</th>\n",
       "      <th>QB</th>\n",
       "      <th>BP</th>\n",
       "      <th>FJ</th>\n",
       "    </tr>\n",
       "  </thead>\n",
       "  <tbody>\n",
       "    <tr>\n",
       "      <th>NI</th>\n",
       "      <td>NaN</td>\n",
       "      <td>NaN</td>\n",
       "      <td>NaN</td>\n",
       "      <td>NaN</td>\n",
       "      <td>NaN</td>\n",
       "      <td>NaN</td>\n",
       "      <td>NaN</td>\n",
       "    </tr>\n",
       "    <tr>\n",
       "      <th>NM</th>\n",
       "      <td>NaN</td>\n",
       "      <td>NaN</td>\n",
       "      <td>NaN</td>\n",
       "      <td>NaN</td>\n",
       "      <td>NaN</td>\n",
       "      <td>NaN</td>\n",
       "      <td>NaN</td>\n",
       "    </tr>\n",
       "    <tr>\n",
       "      <th>KJ</th>\n",
       "      <td>NaN</td>\n",
       "      <td>NaN</td>\n",
       "      <td>NaN</td>\n",
       "      <td>NaN</td>\n",
       "      <td>NaN</td>\n",
       "      <td>NaN</td>\n",
       "      <td>NaN</td>\n",
       "    </tr>\n",
       "    <tr>\n",
       "      <th>NG</th>\n",
       "      <td>NaN</td>\n",
       "      <td>NaN</td>\n",
       "      <td>NaN</td>\n",
       "      <td>NaN</td>\n",
       "      <td>NaN</td>\n",
       "      <td>NaN</td>\n",
       "      <td>NaN</td>\n",
       "    </tr>\n",
       "    <tr>\n",
       "      <th>QB</th>\n",
       "      <td>NaN</td>\n",
       "      <td>NaN</td>\n",
       "      <td>NaN</td>\n",
       "      <td>NaN</td>\n",
       "      <td>NaN</td>\n",
       "      <td>NaN</td>\n",
       "      <td>NaN</td>\n",
       "    </tr>\n",
       "    <tr>\n",
       "      <th>BP</th>\n",
       "      <td>NaN</td>\n",
       "      <td>NaN</td>\n",
       "      <td>NaN</td>\n",
       "      <td>NaN</td>\n",
       "      <td>NaN</td>\n",
       "      <td>NaN</td>\n",
       "      <td>NaN</td>\n",
       "    </tr>\n",
       "    <tr>\n",
       "      <th>FJ</th>\n",
       "      <td>NaN</td>\n",
       "      <td>NaN</td>\n",
       "      <td>NaN</td>\n",
       "      <td>NaN</td>\n",
       "      <td>NaN</td>\n",
       "      <td>NaN</td>\n",
       "      <td>NaN</td>\n",
       "    </tr>\n",
       "  </tbody>\n",
       "</table>\n",
       "</div>"
      ],
      "text/plain": [
       "     NI   NM   KJ   NG   QB   BP   FJ\n",
       "NI  NaN  NaN  NaN  NaN  NaN  NaN  NaN\n",
       "NM  NaN  NaN  NaN  NaN  NaN  NaN  NaN\n",
       "KJ  NaN  NaN  NaN  NaN  NaN  NaN  NaN\n",
       "NG  NaN  NaN  NaN  NaN  NaN  NaN  NaN\n",
       "QB  NaN  NaN  NaN  NaN  NaN  NaN  NaN\n",
       "BP  NaN  NaN  NaN  NaN  NaN  NaN  NaN\n",
       "FJ  NaN  NaN  NaN  NaN  NaN  NaN  NaN"
      ]
     },
     "execution_count": 8,
     "metadata": {},
     "output_type": "execute_result"
    }
   ],
   "source": [
    "userPlay5"
   ]
  },
  {
   "cell_type": "markdown",
   "metadata": {},
   "source": [
    "I'll be using cosine similarities to find my recommendations."
   ]
  },
  {
   "cell_type": "code",
   "execution_count": 9,
   "metadata": {
    "collapsed": false
   },
   "outputs": [],
   "source": [
    "for i in range(0, len(userPlay4.columns)):\n",
    "    for j in range(0, len(userPlay4.columns)):\n",
    "        userPlay5.ix[i,j] = 1 - cosine(userPlay4.ix[:,i], userPlay4.ix[:,j])"
   ]
  },
  {
   "cell_type": "code",
   "execution_count": 10,
   "metadata": {
    "collapsed": false
   },
   "outputs": [],
   "source": [
    "simPlaylist = pd.DataFrame(index = userPlay5.columns, columns = range(1,8))\n",
    "\n",
    "for i in range(0, len(userPlay4.columns)):\n",
    "    simPlaylist.ix[i,:8] = userPlay5.ix[0:,i].sort_values(ascending=False)[:].index"
   ]
  },
  {
   "cell_type": "code",
   "execution_count": 11,
   "metadata": {
    "collapsed": false
   },
   "outputs": [
    {
     "data": {
      "text/html": [
       "<div>\n",
       "<table border=\"1\" class=\"dataframe\">\n",
       "  <thead>\n",
       "    <tr style=\"text-align: right;\">\n",
       "      <th></th>\n",
       "      <th>1</th>\n",
       "      <th>2</th>\n",
       "      <th>3</th>\n",
       "      <th>4</th>\n",
       "      <th>5</th>\n",
       "      <th>6</th>\n",
       "      <th>7</th>\n",
       "    </tr>\n",
       "  </thead>\n",
       "  <tbody>\n",
       "    <tr>\n",
       "      <th>NI</th>\n",
       "      <td>NI</td>\n",
       "      <td>QB</td>\n",
       "      <td>KJ</td>\n",
       "      <td>NG</td>\n",
       "      <td>NM</td>\n",
       "      <td>FJ</td>\n",
       "      <td>BP</td>\n",
       "    </tr>\n",
       "    <tr>\n",
       "      <th>NM</th>\n",
       "      <td>NM</td>\n",
       "      <td>NG</td>\n",
       "      <td>BP</td>\n",
       "      <td>FJ</td>\n",
       "      <td>QB</td>\n",
       "      <td>NI</td>\n",
       "      <td>KJ</td>\n",
       "    </tr>\n",
       "    <tr>\n",
       "      <th>KJ</th>\n",
       "      <td>KJ</td>\n",
       "      <td>NI</td>\n",
       "      <td>QB</td>\n",
       "      <td>BP</td>\n",
       "      <td>NM</td>\n",
       "      <td>FJ</td>\n",
       "      <td>NG</td>\n",
       "    </tr>\n",
       "    <tr>\n",
       "      <th>NG</th>\n",
       "      <td>NG</td>\n",
       "      <td>NM</td>\n",
       "      <td>FJ</td>\n",
       "      <td>BP</td>\n",
       "      <td>QB</td>\n",
       "      <td>NI</td>\n",
       "      <td>KJ</td>\n",
       "    </tr>\n",
       "    <tr>\n",
       "      <th>QB</th>\n",
       "      <td>QB</td>\n",
       "      <td>NI</td>\n",
       "      <td>NG</td>\n",
       "      <td>NM</td>\n",
       "      <td>FJ</td>\n",
       "      <td>KJ</td>\n",
       "      <td>BP</td>\n",
       "    </tr>\n",
       "    <tr>\n",
       "      <th>BP</th>\n",
       "      <td>BP</td>\n",
       "      <td>NM</td>\n",
       "      <td>FJ</td>\n",
       "      <td>NG</td>\n",
       "      <td>KJ</td>\n",
       "      <td>QB</td>\n",
       "      <td>NI</td>\n",
       "    </tr>\n",
       "    <tr>\n",
       "      <th>FJ</th>\n",
       "      <td>FJ</td>\n",
       "      <td>NG</td>\n",
       "      <td>BP</td>\n",
       "      <td>NM</td>\n",
       "      <td>QB</td>\n",
       "      <td>NI</td>\n",
       "      <td>KJ</td>\n",
       "    </tr>\n",
       "  </tbody>\n",
       "</table>\n",
       "</div>"
      ],
      "text/plain": [
       "     1   2   3   4   5   6   7\n",
       "NI  NI  QB  KJ  NG  NM  FJ  BP\n",
       "NM  NM  NG  BP  FJ  QB  NI  KJ\n",
       "KJ  KJ  NI  QB  BP  NM  FJ  NG\n",
       "NG  NG  NM  FJ  BP  QB  NI  KJ\n",
       "QB  QB  NI  NG  NM  FJ  KJ  BP\n",
       "BP  BP  NM  FJ  NG  KJ  QB  NI\n",
       "FJ  FJ  NG  BP  NM  QB  NI  KJ"
      ]
     },
     "execution_count": 11,
     "metadata": {},
     "output_type": "execute_result"
    }
   ],
   "source": [
    "simPlaylist"
   ]
  },
  {
   "cell_type": "markdown",
   "metadata": {},
   "source": [
    "The table above highlights the playlists as well as other playlists similar to them, in descending order from left to right. For the playlist named NI, QB is the most similar, followed by KJ, and so on."
   ]
  },
  {
   "cell_type": "markdown",
   "metadata": {},
   "source": [
    "Now, I want to incorporate these similarities between playlists with the users to create recommendations for each user. I'll start off by creating an empty dataframe for my similar playlists."
   ]
  },
  {
   "cell_type": "code",
   "execution_count": 12,
   "metadata": {
    "collapsed": false
   },
   "outputs": [
    {
     "data": {
      "text/html": [
       "<div>\n",
       "<table border=\"1\" class=\"dataframe\">\n",
       "  <thead>\n",
       "    <tr style=\"text-align: right;\">\n",
       "      <th></th>\n",
       "      <th>user_id</th>\n",
       "      <th>NI</th>\n",
       "      <th>NM</th>\n",
       "      <th>KJ</th>\n",
       "      <th>NG</th>\n",
       "      <th>QB</th>\n",
       "      <th>BP</th>\n",
       "      <th>FJ</th>\n",
       "    </tr>\n",
       "  </thead>\n",
       "  <tbody>\n",
       "    <tr>\n",
       "      <th>0</th>\n",
       "      <td>amy</td>\n",
       "      <td>NaN</td>\n",
       "      <td>NaN</td>\n",
       "      <td>NaN</td>\n",
       "      <td>NaN</td>\n",
       "      <td>NaN</td>\n",
       "      <td>NaN</td>\n",
       "      <td>NaN</td>\n",
       "    </tr>\n",
       "    <tr>\n",
       "      <th>1</th>\n",
       "      <td>ebehi</td>\n",
       "      <td>NaN</td>\n",
       "      <td>NaN</td>\n",
       "      <td>NaN</td>\n",
       "      <td>NaN</td>\n",
       "      <td>NaN</td>\n",
       "      <td>NaN</td>\n",
       "      <td>NaN</td>\n",
       "    </tr>\n",
       "    <tr>\n",
       "      <th>2</th>\n",
       "      <td>jason</td>\n",
       "      <td>NaN</td>\n",
       "      <td>NaN</td>\n",
       "      <td>NaN</td>\n",
       "      <td>NaN</td>\n",
       "      <td>NaN</td>\n",
       "      <td>NaN</td>\n",
       "      <td>NaN</td>\n",
       "    </tr>\n",
       "    <tr>\n",
       "      <th>3</th>\n",
       "      <td>kevin</td>\n",
       "      <td>NaN</td>\n",
       "      <td>NaN</td>\n",
       "      <td>NaN</td>\n",
       "      <td>NaN</td>\n",
       "      <td>NaN</td>\n",
       "      <td>NaN</td>\n",
       "      <td>NaN</td>\n",
       "    </tr>\n",
       "    <tr>\n",
       "      <th>4</th>\n",
       "      <td>kobe</td>\n",
       "      <td>NaN</td>\n",
       "      <td>NaN</td>\n",
       "      <td>NaN</td>\n",
       "      <td>NaN</td>\n",
       "      <td>NaN</td>\n",
       "      <td>NaN</td>\n",
       "      <td>NaN</td>\n",
       "    </tr>\n",
       "    <tr>\n",
       "      <th>5</th>\n",
       "      <td>marit</td>\n",
       "      <td>NaN</td>\n",
       "      <td>NaN</td>\n",
       "      <td>NaN</td>\n",
       "      <td>NaN</td>\n",
       "      <td>NaN</td>\n",
       "      <td>NaN</td>\n",
       "      <td>NaN</td>\n",
       "    </tr>\n",
       "    <tr>\n",
       "      <th>6</th>\n",
       "      <td>qi</td>\n",
       "      <td>NaN</td>\n",
       "      <td>NaN</td>\n",
       "      <td>NaN</td>\n",
       "      <td>NaN</td>\n",
       "      <td>NaN</td>\n",
       "      <td>NaN</td>\n",
       "      <td>NaN</td>\n",
       "    </tr>\n",
       "    <tr>\n",
       "      <th>7</th>\n",
       "      <td>regina</td>\n",
       "      <td>NaN</td>\n",
       "      <td>NaN</td>\n",
       "      <td>NaN</td>\n",
       "      <td>NaN</td>\n",
       "      <td>NaN</td>\n",
       "      <td>NaN</td>\n",
       "      <td>NaN</td>\n",
       "    </tr>\n",
       "    <tr>\n",
       "      <th>8</th>\n",
       "      <td>saket</td>\n",
       "      <td>NaN</td>\n",
       "      <td>NaN</td>\n",
       "      <td>NaN</td>\n",
       "      <td>NaN</td>\n",
       "      <td>NaN</td>\n",
       "      <td>NaN</td>\n",
       "      <td>NaN</td>\n",
       "    </tr>\n",
       "    <tr>\n",
       "      <th>9</th>\n",
       "      <td>tenele</td>\n",
       "      <td>NaN</td>\n",
       "      <td>NaN</td>\n",
       "      <td>NaN</td>\n",
       "      <td>NaN</td>\n",
       "      <td>NaN</td>\n",
       "      <td>NaN</td>\n",
       "      <td>NaN</td>\n",
       "    </tr>\n",
       "    <tr>\n",
       "      <th>10</th>\n",
       "      <td>yoonhee</td>\n",
       "      <td>NaN</td>\n",
       "      <td>NaN</td>\n",
       "      <td>NaN</td>\n",
       "      <td>NaN</td>\n",
       "      <td>NaN</td>\n",
       "      <td>NaN</td>\n",
       "      <td>NaN</td>\n",
       "    </tr>\n",
       "  </tbody>\n",
       "</table>\n",
       "</div>"
      ],
      "text/plain": [
       "    user_id   NI   NM   KJ   NG   QB   BP   FJ\n",
       "0       amy  NaN  NaN  NaN  NaN  NaN  NaN  NaN\n",
       "1     ebehi  NaN  NaN  NaN  NaN  NaN  NaN  NaN\n",
       "2     jason  NaN  NaN  NaN  NaN  NaN  NaN  NaN\n",
       "3     kevin  NaN  NaN  NaN  NaN  NaN  NaN  NaN\n",
       "4      kobe  NaN  NaN  NaN  NaN  NaN  NaN  NaN\n",
       "5     marit  NaN  NaN  NaN  NaN  NaN  NaN  NaN\n",
       "6        qi  NaN  NaN  NaN  NaN  NaN  NaN  NaN\n",
       "7    regina  NaN  NaN  NaN  NaN  NaN  NaN  NaN\n",
       "8     saket  NaN  NaN  NaN  NaN  NaN  NaN  NaN\n",
       "9    tenele  NaN  NaN  NaN  NaN  NaN  NaN  NaN\n",
       "10  yoonhee  NaN  NaN  NaN  NaN  NaN  NaN  NaN"
      ]
     },
     "execution_count": 12,
     "metadata": {},
     "output_type": "execute_result"
    }
   ],
   "source": [
    "similarPlaylist = pd.DataFrame(index = userPlay3.index, columns = userPlay3.columns)\n",
    "similarPlaylist.ix[:,:1] = userPlay3.ix[:,:1] # This is to include the user_id in my data frame\n",
    "similarPlaylist"
   ]
  },
  {
   "cell_type": "code",
   "execution_count": 13,
   "metadata": {
    "collapsed": false
   },
   "outputs": [
    {
     "data": {
      "text/plain": [
       "0         amy\n",
       "1       ebehi\n",
       "2       jason\n",
       "3       kevin\n",
       "4        kobe\n",
       "5       marit\n",
       "6          qi\n",
       "7      regina\n",
       "8       saket\n",
       "9      tenele\n",
       "10    yoonhee\n",
       "Name: user_id, dtype: object"
      ]
     },
     "execution_count": 13,
     "metadata": {},
     "output_type": "execute_result"
    }
   ],
   "source": [
    "# for i in range(1,len(similarPlaylist.columns)):\n",
    "#     print i\n",
    "\n",
    "similarPlaylist.ix[:,0]"
   ]
  },
  {
   "cell_type": "code",
   "execution_count": 14,
   "metadata": {
    "collapsed": false
   },
   "outputs": [],
   "source": [
    "def similar(a,b):\n",
    "    return sum(a*b)/sum(b)\n",
    "\n",
    "for i in range(0, len(similarPlaylist.index)):\n",
    "    for j in range(1, len(similarPlaylist.columns)):\n",
    "        user = similarPlaylist.index[i] # To select the users\n",
    "        playlist = similarPlaylist.columns[j] # To select the playlist\n",
    "        \n",
    "        if userPlay3.ix[i][j] == 1:\n",
    "            similarPlaylist.ix[i][j] = 0 # To eliminate playlists that each user has heard before\n",
    "        \n",
    "        else: \n",
    "            topPlaylist = simPlaylist.ix[playlist][1:7] # Selecting the top matches for each playlist\n",
    "            topSimilarities = userPlay5.ix[playlist].sort_values(ascending=False)[1:7]\n",
    "            # This line above is for sorting the cosine similarities for each playlist\n",
    "            user_playlist = userPlay4.ix[user, topPlaylist]\n",
    "            \n",
    "            similarPlaylist.ix[i][j] = similar(user_playlist, topSimilarities)"
   ]
  },
  {
   "cell_type": "code",
   "execution_count": 15,
   "metadata": {
    "collapsed": false
   },
   "outputs": [
    {
     "data": {
      "text/html": [
       "<div>\n",
       "<table border=\"1\" class=\"dataframe\">\n",
       "  <thead>\n",
       "    <tr style=\"text-align: right;\">\n",
       "      <th></th>\n",
       "      <th>user_id</th>\n",
       "      <th>NI</th>\n",
       "      <th>NM</th>\n",
       "      <th>KJ</th>\n",
       "      <th>NG</th>\n",
       "      <th>QB</th>\n",
       "      <th>BP</th>\n",
       "      <th>FJ</th>\n",
       "    </tr>\n",
       "  </thead>\n",
       "  <tbody>\n",
       "    <tr>\n",
       "      <th>0</th>\n",
       "      <td>amy</td>\n",
       "      <td>0.151916</td>\n",
       "      <td>0</td>\n",
       "      <td>0.343462</td>\n",
       "      <td>0.453971</td>\n",
       "      <td>0.181428</td>\n",
       "      <td>0</td>\n",
       "      <td>0.427376</td>\n",
       "    </tr>\n",
       "    <tr>\n",
       "      <th>1</th>\n",
       "      <td>ebehi</td>\n",
       "      <td>0</td>\n",
       "      <td>0.208495</td>\n",
       "      <td>0</td>\n",
       "      <td>0.140485</td>\n",
       "      <td>0.498577</td>\n",
       "      <td>0.131881</td>\n",
       "      <td>0.12948</td>\n",
       "    </tr>\n",
       "    <tr>\n",
       "      <th>2</th>\n",
       "      <td>jason</td>\n",
       "      <td>0.303832</td>\n",
       "      <td>0</td>\n",
       "      <td>0.157319</td>\n",
       "      <td>0</td>\n",
       "      <td>0.362855</td>\n",
       "      <td>0.604356</td>\n",
       "      <td>0.489388</td>\n",
       "    </tr>\n",
       "    <tr>\n",
       "      <th>3</th>\n",
       "      <td>kevin</td>\n",
       "      <td>0.41986</td>\n",
       "      <td>0</td>\n",
       "      <td>0.343462</td>\n",
       "      <td>0</td>\n",
       "      <td>0.501423</td>\n",
       "      <td>0</td>\n",
       "      <td>0</td>\n",
       "    </tr>\n",
       "    <tr>\n",
       "      <th>4</th>\n",
       "      <td>kobe</td>\n",
       "      <td>0</td>\n",
       "      <td>0</td>\n",
       "      <td>0.813857</td>\n",
       "      <td>0</td>\n",
       "      <td>0</td>\n",
       "      <td>0.868119</td>\n",
       "      <td>0</td>\n",
       "    </tr>\n",
       "  </tbody>\n",
       "</table>\n",
       "</div>"
      ],
      "text/plain": [
       "  user_id        NI        NM        KJ        NG        QB        BP  \\\n",
       "0     amy  0.151916         0  0.343462  0.453971  0.181428         0   \n",
       "1   ebehi         0  0.208495         0  0.140485  0.498577  0.131881   \n",
       "2   jason  0.303832         0  0.157319         0  0.362855  0.604356   \n",
       "3   kevin   0.41986         0  0.343462         0  0.501423         0   \n",
       "4    kobe         0         0  0.813857         0         0  0.868119   \n",
       "\n",
       "         FJ  \n",
       "0  0.427376  \n",
       "1   0.12948  \n",
       "2  0.489388  \n",
       "3         0  \n",
       "4         0  "
      ]
     },
     "execution_count": 15,
     "metadata": {},
     "output_type": "execute_result"
    }
   ],
   "source": [
    "similarPlaylist.head() "
   ]
  },
  {
   "cell_type": "code",
   "execution_count": 16,
   "metadata": {
    "collapsed": false
   },
   "outputs": [
    {
     "data": {
      "text/html": [
       "<div>\n",
       "<table border=\"1\" class=\"dataframe\">\n",
       "  <thead>\n",
       "    <tr style=\"text-align: right;\">\n",
       "      <th></th>\n",
       "      <th>user</th>\n",
       "      <th>1</th>\n",
       "      <th>2</th>\n",
       "      <th>3</th>\n",
       "      <th>4</th>\n",
       "      <th>5</th>\n",
       "    </tr>\n",
       "  </thead>\n",
       "  <tbody>\n",
       "    <tr>\n",
       "      <th>0</th>\n",
       "      <td>amy</td>\n",
       "      <td>NaN</td>\n",
       "      <td>NaN</td>\n",
       "      <td>NaN</td>\n",
       "      <td>NaN</td>\n",
       "      <td>NaN</td>\n",
       "    </tr>\n",
       "    <tr>\n",
       "      <th>1</th>\n",
       "      <td>ebehi</td>\n",
       "      <td>NaN</td>\n",
       "      <td>NaN</td>\n",
       "      <td>NaN</td>\n",
       "      <td>NaN</td>\n",
       "      <td>NaN</td>\n",
       "    </tr>\n",
       "    <tr>\n",
       "      <th>2</th>\n",
       "      <td>jason</td>\n",
       "      <td>NaN</td>\n",
       "      <td>NaN</td>\n",
       "      <td>NaN</td>\n",
       "      <td>NaN</td>\n",
       "      <td>NaN</td>\n",
       "    </tr>\n",
       "    <tr>\n",
       "      <th>3</th>\n",
       "      <td>kevin</td>\n",
       "      <td>NaN</td>\n",
       "      <td>NaN</td>\n",
       "      <td>NaN</td>\n",
       "      <td>NaN</td>\n",
       "      <td>NaN</td>\n",
       "    </tr>\n",
       "    <tr>\n",
       "      <th>4</th>\n",
       "      <td>kobe</td>\n",
       "      <td>NaN</td>\n",
       "      <td>NaN</td>\n",
       "      <td>NaN</td>\n",
       "      <td>NaN</td>\n",
       "      <td>NaN</td>\n",
       "    </tr>\n",
       "    <tr>\n",
       "      <th>5</th>\n",
       "      <td>marit</td>\n",
       "      <td>NaN</td>\n",
       "      <td>NaN</td>\n",
       "      <td>NaN</td>\n",
       "      <td>NaN</td>\n",
       "      <td>NaN</td>\n",
       "    </tr>\n",
       "    <tr>\n",
       "      <th>6</th>\n",
       "      <td>qi</td>\n",
       "      <td>NaN</td>\n",
       "      <td>NaN</td>\n",
       "      <td>NaN</td>\n",
       "      <td>NaN</td>\n",
       "      <td>NaN</td>\n",
       "    </tr>\n",
       "    <tr>\n",
       "      <th>7</th>\n",
       "      <td>regina</td>\n",
       "      <td>NaN</td>\n",
       "      <td>NaN</td>\n",
       "      <td>NaN</td>\n",
       "      <td>NaN</td>\n",
       "      <td>NaN</td>\n",
       "    </tr>\n",
       "    <tr>\n",
       "      <th>8</th>\n",
       "      <td>saket</td>\n",
       "      <td>NaN</td>\n",
       "      <td>NaN</td>\n",
       "      <td>NaN</td>\n",
       "      <td>NaN</td>\n",
       "      <td>NaN</td>\n",
       "    </tr>\n",
       "    <tr>\n",
       "      <th>9</th>\n",
       "      <td>tenele</td>\n",
       "      <td>NaN</td>\n",
       "      <td>NaN</td>\n",
       "      <td>NaN</td>\n",
       "      <td>NaN</td>\n",
       "      <td>NaN</td>\n",
       "    </tr>\n",
       "    <tr>\n",
       "      <th>10</th>\n",
       "      <td>yoonhee</td>\n",
       "      <td>NaN</td>\n",
       "      <td>NaN</td>\n",
       "      <td>NaN</td>\n",
       "      <td>NaN</td>\n",
       "      <td>NaN</td>\n",
       "    </tr>\n",
       "  </tbody>\n",
       "</table>\n",
       "</div>"
      ],
      "text/plain": [
       "       user    1    2    3    4    5\n",
       "0       amy  NaN  NaN  NaN  NaN  NaN\n",
       "1     ebehi  NaN  NaN  NaN  NaN  NaN\n",
       "2     jason  NaN  NaN  NaN  NaN  NaN\n",
       "3     kevin  NaN  NaN  NaN  NaN  NaN\n",
       "4      kobe  NaN  NaN  NaN  NaN  NaN\n",
       "5     marit  NaN  NaN  NaN  NaN  NaN\n",
       "6        qi  NaN  NaN  NaN  NaN  NaN\n",
       "7    regina  NaN  NaN  NaN  NaN  NaN\n",
       "8     saket  NaN  NaN  NaN  NaN  NaN\n",
       "9    tenele  NaN  NaN  NaN  NaN  NaN\n",
       "10  yoonhee  NaN  NaN  NaN  NaN  NaN"
      ]
     },
     "execution_count": 16,
     "metadata": {},
     "output_type": "execute_result"
    }
   ],
   "source": [
    "# Creating an empty data frame for the top recommendations\n",
    "recommendation = pd.DataFrame(index=similarPlaylist.index, columns=['user','1','2','3','4','5'])\n",
    "recommendation.ix[0:,0] = similarPlaylist.ix[:,0]\n",
    "recommendation"
   ]
  },
  {
   "cell_type": "code",
   "execution_count": 17,
   "metadata": {
    "collapsed": true
   },
   "outputs": [],
   "source": [
    "# Inserting the top recommended playlists into the empty data frame\n",
    "for i in range(0, len(similarPlaylist.index)):\n",
    "    recommendation.ix[i,1:] = similarPlaylist.ix[i,:].sort_values(ascending=False).ix[1:6,].index.transpose()"
   ]
  },
  {
   "cell_type": "markdown",
   "metadata": {},
   "source": [
    "Now we have a data frame that higlights top recommendations for each user."
   ]
  },
  {
   "cell_type": "code",
   "execution_count": 18,
   "metadata": {
    "collapsed": false
   },
   "outputs": [
    {
     "data": {
      "text/html": [
       "<div>\n",
       "<table border=\"1\" class=\"dataframe\">\n",
       "  <thead>\n",
       "    <tr style=\"text-align: right;\">\n",
       "      <th></th>\n",
       "      <th>user</th>\n",
       "      <th>1</th>\n",
       "      <th>2</th>\n",
       "      <th>3</th>\n",
       "      <th>4</th>\n",
       "      <th>5</th>\n",
       "    </tr>\n",
       "  </thead>\n",
       "  <tbody>\n",
       "    <tr>\n",
       "      <th>0</th>\n",
       "      <td>amy</td>\n",
       "      <td>NG</td>\n",
       "      <td>FJ</td>\n",
       "      <td>KJ</td>\n",
       "      <td>QB</td>\n",
       "      <td>NI</td>\n",
       "    </tr>\n",
       "    <tr>\n",
       "      <th>1</th>\n",
       "      <td>ebehi</td>\n",
       "      <td>QB</td>\n",
       "      <td>NM</td>\n",
       "      <td>NG</td>\n",
       "      <td>BP</td>\n",
       "      <td>FJ</td>\n",
       "    </tr>\n",
       "    <tr>\n",
       "      <th>2</th>\n",
       "      <td>jason</td>\n",
       "      <td>BP</td>\n",
       "      <td>FJ</td>\n",
       "      <td>QB</td>\n",
       "      <td>NI</td>\n",
       "      <td>KJ</td>\n",
       "    </tr>\n",
       "    <tr>\n",
       "      <th>3</th>\n",
       "      <td>kevin</td>\n",
       "      <td>QB</td>\n",
       "      <td>NI</td>\n",
       "      <td>KJ</td>\n",
       "      <td>FJ</td>\n",
       "      <td>BP</td>\n",
       "    </tr>\n",
       "    <tr>\n",
       "      <th>4</th>\n",
       "      <td>kobe</td>\n",
       "      <td>BP</td>\n",
       "      <td>KJ</td>\n",
       "      <td>FJ</td>\n",
       "      <td>QB</td>\n",
       "      <td>NG</td>\n",
       "    </tr>\n",
       "    <tr>\n",
       "      <th>5</th>\n",
       "      <td>marit</td>\n",
       "      <td>KJ</td>\n",
       "      <td>FJ</td>\n",
       "      <td>BP</td>\n",
       "      <td>QB</td>\n",
       "      <td>NG</td>\n",
       "    </tr>\n",
       "    <tr>\n",
       "      <th>6</th>\n",
       "      <td>qi</td>\n",
       "      <td>NG</td>\n",
       "      <td>FJ</td>\n",
       "      <td>NI</td>\n",
       "      <td>QB</td>\n",
       "      <td>BP</td>\n",
       "    </tr>\n",
       "    <tr>\n",
       "      <th>7</th>\n",
       "      <td>regina</td>\n",
       "      <td>FJ</td>\n",
       "      <td>QB</td>\n",
       "      <td>KJ</td>\n",
       "      <td>NI</td>\n",
       "      <td>BP</td>\n",
       "    </tr>\n",
       "    <tr>\n",
       "      <th>8</th>\n",
       "      <td>saket</td>\n",
       "      <td>FJ</td>\n",
       "      <td>BP</td>\n",
       "      <td>NM</td>\n",
       "      <td>QB</td>\n",
       "      <td>NI</td>\n",
       "    </tr>\n",
       "    <tr>\n",
       "      <th>9</th>\n",
       "      <td>tenele</td>\n",
       "      <td>NM</td>\n",
       "      <td>NG</td>\n",
       "      <td>FJ</td>\n",
       "      <td>BP</td>\n",
       "      <td>QB</td>\n",
       "    </tr>\n",
       "    <tr>\n",
       "      <th>10</th>\n",
       "      <td>yoonhee</td>\n",
       "      <td>NM</td>\n",
       "      <td>QB</td>\n",
       "      <td>NI</td>\n",
       "      <td>KJ</td>\n",
       "      <td>FJ</td>\n",
       "    </tr>\n",
       "  </tbody>\n",
       "</table>\n",
       "</div>"
      ],
      "text/plain": [
       "       user   1   2   3   4   5\n",
       "0       amy  NG  FJ  KJ  QB  NI\n",
       "1     ebehi  QB  NM  NG  BP  FJ\n",
       "2     jason  BP  FJ  QB  NI  KJ\n",
       "3     kevin  QB  NI  KJ  FJ  BP\n",
       "4      kobe  BP  KJ  FJ  QB  NG\n",
       "5     marit  KJ  FJ  BP  QB  NG\n",
       "6        qi  NG  FJ  NI  QB  BP\n",
       "7    regina  FJ  QB  KJ  NI  BP\n",
       "8     saket  FJ  BP  NM  QB  NI\n",
       "9    tenele  NM  NG  FJ  BP  QB\n",
       "10  yoonhee  NM  QB  NI  KJ  FJ"
      ]
     },
     "execution_count": 18,
     "metadata": {},
     "output_type": "execute_result"
    }
   ],
   "source": [
    "recommendation"
   ]
  },
  {
   "cell_type": "markdown",
   "metadata": {},
   "source": [
    "We can go further to create a function that returns the top recommendations for a given user."
   ]
  },
  {
   "cell_type": "code",
   "execution_count": 19,
   "metadata": {
    "collapsed": true
   },
   "outputs": [],
   "source": [
    "def youmightlike(x):\n",
    "    for i in range(0, len(recommendation.index)):\n",
    "        if recommendation.ix[i][0] == x:\n",
    "            return recommendation.ix[i,1:]"
   ]
  },
  {
   "cell_type": "markdown",
   "metadata": {},
   "source": [
    "And Voila! We have playlist recommendations for Kevin!"
   ]
  },
  {
   "cell_type": "code",
   "execution_count": 20,
   "metadata": {
    "collapsed": false
   },
   "outputs": [
    {
     "data": {
      "text/plain": [
       "1    QB\n",
       "2    NI\n",
       "3    KJ\n",
       "4    FJ\n",
       "5    BP\n",
       "Name: 3, dtype: object"
      ]
     },
     "execution_count": 20,
     "metadata": {},
     "output_type": "execute_result"
    }
   ],
   "source": [
    "youmightlike(\"kevin\")"
   ]
  }
 ],
 "metadata": {
  "anaconda-cloud": {},
  "kernelspec": {
   "display_name": "Python [Root]",
   "language": "python",
   "name": "Python [Root]"
  },
  "language_info": {
   "codemirror_mode": {
    "name": "ipython",
    "version": 2
   },
   "file_extension": ".py",
   "mimetype": "text/x-python",
   "name": "python",
   "nbconvert_exporter": "python",
   "pygments_lexer": "ipython2",
   "version": "2.7.12"
  }
 },
 "nbformat": 4,
 "nbformat_minor": 0
}
